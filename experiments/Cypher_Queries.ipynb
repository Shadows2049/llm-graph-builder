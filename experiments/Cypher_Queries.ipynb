{
 "cells": [
  {
   "cell_type": "code",
   "execution_count": null,
   "id": "05f70a00-3875-4bd1-baf4-fbf47c2528e6",
   "metadata": {},
   "outputs": [],
   "source": [
    "%pip install neo4j-driver"
   ]
  },
  {
   "cell_type": "markdown",
   "id": "d7965b78-6c75-4225-819b-41f48f8420f0",
   "metadata": {},
   "source": [
    "##### Dataset\n",
    "The original dataset can be found in \"https://github.com/krlawrence/graph\""
   ]
  },
  {
   "cell_type": "code",
   "execution_count": 43,
   "id": "a73ae177-b71d-4874-9e92-d2b02305467e",
   "metadata": {},
   "outputs": [],
   "source": [
    "#import libraries\n",
    "from neo4j import GraphDatabase, basic_auth\n",
    "import pandas as pd"
   ]
  },
  {
   "cell_type": "code",
   "execution_count": 44,
   "id": "bd1aceef-c494-497b-9fb7-ef2f318b4c66",
   "metadata": {},
   "outputs": [],
   "source": [
    "#define credentials\n",
    "uri= \"bolt://18.207.148.129:7687\"\n",
    "pwd = \"closures-lifts-payroll\""
   ]
  },
  {
   "cell_type": "code",
   "execution_count": 45,
   "id": "3e699585-56a5-4fa0-936b-384048371c46",
   "metadata": {},
   "outputs": [],
   "source": [
    "#establish connection to the Graph Database\n",
    "driver = GraphDatabase.driver(uri, auth=basic_auth(\"neo4j\", pwd))"
   ]
  },
  {
   "cell_type": "code",
   "execution_count": 46,
   "id": "111333aa-42b1-439c-aa78-b4e7d97e1106",
   "metadata": {},
   "outputs": [
    {
     "data": {
      "text/plain": [
       "<neo4j._sync.driver.BoltDriver at 0x2d496d9c2d0>"
      ]
     },
     "execution_count": 46,
     "metadata": {},
     "output_type": "execute_result"
    }
   ],
   "source": [
    "driver"
   ]
  },
  {
   "cell_type": "code",
   "execution_count": 47,
   "id": "77d23999-5752-4fdd-85d2-8c75976f44cf",
   "metadata": {},
   "outputs": [
    {
     "name": "stdout",
     "output_type": "stream",
     "text": [
      "Node Labels: ['Airport', 'City', 'Region', 'Country', 'Continent']\n",
      "Relationship Types: ['IN_CITY', 'IN_COUNTRY', 'IN_REGION', 'ON_CONTINENT', 'HAS_ROUTE']\n"
     ]
    }
   ],
   "source": [
    "#Get Node Labels and relationship types\n",
    "\n",
    "def get_node_labels(tx):\n",
    "    result = tx.run(\"CALL db.labels()\")\n",
    "    return [record[\"label\"] for record in result]\n",
    "\n",
    "def get_relationship_types(tx):\n",
    "    result = tx.run(\"CALL db.relationshipTypes()\")\n",
    "    return [record[\"relationshipType\"] for record in result]\n",
    "\n",
    "with driver.session() as session:\n",
    "    node_labels = session.execute_read(get_node_labels)\n",
    "    relationship_types = session.execute_read(get_relationship_types)\n",
    "\n",
    "# Print the results\n",
    "print(\"Node Labels:\", node_labels)\n",
    "print(\"Relationship Types:\", relationship_types)"
   ]
  },
  {
   "cell_type": "code",
   "execution_count": null,
   "id": "60020734-eae7-41a6-b93f-816d5753d6f5",
   "metadata": {},
   "outputs": [],
   "source": []
  },
  {
   "cell_type": "code",
   "execution_count": 48,
   "id": "ddb198d7-e339-463d-9a70-87b4ceec3b40",
   "metadata": {},
   "outputs": [],
   "source": [
    "# Initialize an empty list to store the results\n",
    "data = []"
   ]
  },
  {
   "cell_type": "code",
   "execution_count": null,
   "id": "ba056a30-03a1-46f7-af41-6885a6d06d8b",
   "metadata": {},
   "outputs": [],
   "source": []
  },
  {
   "cell_type": "code",
   "execution_count": 49,
   "id": "2201add6-c391-4917-bcdd-901c186f1a65",
   "metadata": {},
   "outputs": [],
   "source": [
    "#Query the number of nodes\n",
    "query = \"MATCH (n) RETURN COUNT(n)\""
   ]
  },
  {
   "cell_type": "code",
   "execution_count": 50,
   "id": "03fad21c-8ee1-4a1e-9671-183a26880bf3",
   "metadata": {},
   "outputs": [
    {
     "name": "stdout",
     "output_type": "stream",
     "text": [
      "<Record COUNT(n)=8627>\n"
     ]
    }
   ],
   "source": [
    "with driver.session() as session:\n",
    "    result = session.run(query)\n",
    "    print(result.single())"
   ]
  },
  {
   "cell_type": "code",
   "execution_count": 51,
   "id": "f602fa3d-ebfb-4552-bb0f-2e3ea96c5234",
   "metadata": {},
   "outputs": [
    {
     "name": "stdout",
     "output_type": "stream",
     "text": [
      "8627\n"
     ]
    }
   ],
   "source": [
    "with driver.session() as session:\n",
    "    result = session.run(query)\n",
    "    print(result.single()[\"COUNT(n)\"])"
   ]
  },
  {
   "cell_type": "code",
   "execution_count": 52,
   "id": "beddbec3-c3a7-4b96-90dd-9b77af73126d",
   "metadata": {},
   "outputs": [
    {
     "name": "stdout",
     "output_type": "stream",
     "text": [
      "Number of Nodes: 8627\n"
     ]
    }
   ],
   "source": [
    "with driver.session() as session:\n",
    "    result = session.run(query)\n",
    "    count = result.single()[\"COUNT(n)\"]\n",
    "    data.append({\"Entity\": \"Nodes\", \"Count\": count})\n",
    "    print(f'Number of Nodes: {count}')"
   ]
  },
  {
   "cell_type": "code",
   "execution_count": null,
   "id": "81d78ca4-af2d-40a7-944d-0a9a0d5e26d8",
   "metadata": {},
   "outputs": [],
   "source": []
  },
  {
   "cell_type": "code",
   "execution_count": null,
   "id": "bf426fe7-142b-43a7-acd4-030b1426096f",
   "metadata": {},
   "outputs": [],
   "source": []
  },
  {
   "cell_type": "code",
   "execution_count": 53,
   "id": "cbc630ee-cf3e-4b93-b2e8-c88cc8c0f886",
   "metadata": {},
   "outputs": [],
   "source": [
    "# Query number of Country nodes\n",
    "query = \"MATCH (n:Country) RETURN COUNT(n)\""
   ]
  },
  {
   "cell_type": "code",
   "execution_count": 54,
   "id": "74732f50-36fb-47ee-86c5-3e4289f805b2",
   "metadata": {},
   "outputs": [
    {
     "name": "stdout",
     "output_type": "stream",
     "text": [
      "<Record COUNT(n)=232>\n"
     ]
    }
   ],
   "source": [
    "with driver.session() as session:\n",
    "    result = session.run(query)\n",
    "    # Get the single result record\n",
    "    print(result.single())"
   ]
  },
  {
   "cell_type": "code",
   "execution_count": 55,
   "id": "84940294-db40-488e-ab5b-55c101f9b417",
   "metadata": {},
   "outputs": [
    {
     "name": "stdout",
     "output_type": "stream",
     "text": [
      "232\n"
     ]
    }
   ],
   "source": [
    "with driver.session() as session:\n",
    "    result = session.run(query)\n",
    "    # Get the single result record\n",
    "    print(result.single()[\"COUNT(n)\"])"
   ]
  },
  {
   "cell_type": "code",
   "execution_count": 56,
   "id": "085aa6b6-f974-4553-9402-acee0e959fb5",
   "metadata": {},
   "outputs": [
    {
     "name": "stdout",
     "output_type": "stream",
     "text": [
      "Number of countries: 232\n"
     ]
    }
   ],
   "source": [
    "with driver.session() as session:\n",
    "    result = session.run(query)\n",
    "    count = result.single()[\"COUNT(n)\"]\n",
    "    data.append({\"Entity\": \"Countries\", \"Count\": count})\n",
    "    print(f'Number of countries: {count}')"
   ]
  },
  {
   "cell_type": "code",
   "execution_count": null,
   "id": "8f55832c-b8fc-47cc-b330-e9d77d538c01",
   "metadata": {},
   "outputs": [],
   "source": []
  },
  {
   "cell_type": "code",
   "execution_count": null,
   "id": "11f92a30-cc73-412d-bdb2-51eb89db51dc",
   "metadata": {},
   "outputs": [],
   "source": []
  },
  {
   "cell_type": "code",
   "execution_count": 57,
   "id": "39cf86df-7309-4c57-9b73-4399954a1b40",
   "metadata": {},
   "outputs": [],
   "source": [
    "# Query number of Airports\n",
    "query = \"MATCH (n:Airport) RETURN COUNT(n)\""
   ]
  },
  {
   "cell_type": "code",
   "execution_count": 58,
   "id": "3cae34ae-00cb-4f0a-9ea5-5bbe36f8e769",
   "metadata": {},
   "outputs": [
    {
     "name": "stdout",
     "output_type": "stream",
     "text": [
      "Number of Airports: 3503\n"
     ]
    }
   ],
   "source": [
    "with driver.session() as session:\n",
    "    result = session.run(query)\n",
    "    count = result.single()[\"COUNT(n)\"]\n",
    "    data.append({\"Entity\": \"Airports\", \"Count\": count})\n",
    "    print(f'Number of Airports: {count}')"
   ]
  },
  {
   "cell_type": "code",
   "execution_count": null,
   "id": "09f29d7a-81e3-4f4b-9359-8f60555b8c2e",
   "metadata": {},
   "outputs": [],
   "source": []
  },
  {
   "cell_type": "code",
   "execution_count": 59,
   "id": "134b6489-032a-4515-8334-babcec66b7d1",
   "metadata": {},
   "outputs": [],
   "source": [
    "# Query number of Cities\n",
    "query = \"MATCH (n:City) RETURN COUNT(n)\""
   ]
  },
  {
   "cell_type": "code",
   "execution_count": 60,
   "id": "519be579-6af9-4ff4-85b1-5ca85077a577",
   "metadata": {},
   "outputs": [
    {
     "name": "stdout",
     "output_type": "stream",
     "text": [
      "Number of Cities: 3359\n"
     ]
    }
   ],
   "source": [
    "with driver.session() as session:\n",
    "    result = session.run(query)\n",
    "    count = result.single()[\"COUNT(n)\"]\n",
    "    data.append({\"Entity\": \"Cities\", \"Count\": count})\n",
    "    print(f'Number of Cities: {count}')"
   ]
  },
  {
   "cell_type": "code",
   "execution_count": null,
   "id": "373b7282-c20d-45f2-b045-f9eef5a9092a",
   "metadata": {},
   "outputs": [],
   "source": []
  },
  {
   "cell_type": "code",
   "execution_count": 61,
   "id": "0fac9057-a2cb-400e-80b6-54f698e1f620",
   "metadata": {},
   "outputs": [],
   "source": [
    "# Query number of Regions\n",
    "query = \"MATCH (n:Region) RETURN COUNT(n)\""
   ]
  },
  {
   "cell_type": "code",
   "execution_count": 62,
   "id": "db123ed4-daf0-4cfa-addb-1b1dcac7c05c",
   "metadata": {},
   "outputs": [
    {
     "name": "stdout",
     "output_type": "stream",
     "text": [
      "Number of Regions: 1527\n"
     ]
    }
   ],
   "source": [
    "with driver.session() as session:\n",
    "    result = session.run(query)\n",
    "    count = result.single()[\"COUNT(n)\"]\n",
    "    data.append({\"Entity\": \"Regions\", \"Count\": count})\n",
    "    print(f'Number of Regions: {count}')"
   ]
  },
  {
   "cell_type": "code",
   "execution_count": null,
   "id": "57c6f617-500d-44e3-8fc0-0f7bd8d416fd",
   "metadata": {},
   "outputs": [],
   "source": []
  },
  {
   "cell_type": "code",
   "execution_count": 63,
   "id": "0d1128b1-b2cb-4e10-95f6-9f236e66e502",
   "metadata": {},
   "outputs": [],
   "source": [
    "# Query number of Continents\n",
    "query = \"MATCH (n:Continent) RETURN COUNT(n)\""
   ]
  },
  {
   "cell_type": "code",
   "execution_count": 64,
   "id": "4f91a9f4-c78b-42f3-b217-8e32e7f9062c",
   "metadata": {},
   "outputs": [
    {
     "name": "stdout",
     "output_type": "stream",
     "text": [
      "Number of Continents: 6\n"
     ]
    }
   ],
   "source": [
    "with driver.session() as session:\n",
    "    result = session.run(query)\n",
    "    count = result.single()[\"COUNT(n)\"]\n",
    "    data.append({\"Entity\": \"Continents\", \"Count\": count})\n",
    "    print(f'Number of Continents: {count}')"
   ]
  },
  {
   "cell_type": "code",
   "execution_count": null,
   "id": "326108cd-2fa8-47b9-99ac-916fdf7ca670",
   "metadata": {},
   "outputs": [],
   "source": []
  },
  {
   "cell_type": "code",
   "execution_count": 65,
   "id": "57b1eabc-5a34-47dd-86d0-d59d13532d94",
   "metadata": {},
   "outputs": [
    {
     "name": "stdout",
     "output_type": "stream",
     "text": [
      "       Entity  Count\n",
      "0       Nodes   8627\n",
      "1   Countries    232\n",
      "2    Airports   3503\n",
      "3      Cities   3359\n",
      "4     Regions   1527\n",
      "5  Continents      6\n"
     ]
    }
   ],
   "source": [
    "# Convert the list of results into a pandas DataFrame\n",
    "df = pd.DataFrame(data)\n",
    "\n",
    "# Print the DataFrame\n",
    "print(df)"
   ]
  },
  {
   "cell_type": "code",
   "execution_count": null,
   "id": "0a9c3266-c291-45ab-8006-72a66eba14db",
   "metadata": {},
   "outputs": [],
   "source": []
  },
  {
   "cell_type": "code",
   "execution_count": 66,
   "id": "20fd9906-e81f-478b-8367-226eb27e1aa6",
   "metadata": {},
   "outputs": [],
   "source": [
    "#Distribution of the number of airports per continent "
   ]
  },
  {
   "cell_type": "code",
   "execution_count": 38,
   "id": "50e0171b-ecf0-4c23-a92e-884700136ad6",
   "metadata": {},
   "outputs": [],
   "source": [
    "query = \"MATCH (:Airport)-[:ON_CONTINENT]->(c:Continent) RETURN c.name AS continentName, count(*) AS numAirports ORDER BY numAirports DESC\""
   ]
  },
  {
   "cell_type": "code",
   "execution_count": 67,
   "id": "e73eefcb-6e65-4624-a4e1-6ad4291f5208",
   "metadata": {},
   "outputs": [],
   "source": [
    "def get_airports_per_continent(tx):\n",
    "    query = \"\"\"\n",
    "    MATCH (:Airport)-[:ON_CONTINENT]->(c:Continent)\n",
    "    RETURN c.name AS continentName, count(*) AS numAirports\n",
    "    ORDER BY numAirports DESC\n",
    "    \"\"\"\n",
    "    result = tx.run(query)\n",
    "    return [{\"continentName\": record[\"continentName\"], \"numAirports\": record[\"numAirports\"]} for record in result]\n",
    "\n",
    "# Get airports per continent\n",
    "with driver.session() as session:\n",
    "    airports_per_continent = session.execute_read(get_airports_per_continent)"
   ]
  },
  {
   "cell_type": "code",
   "execution_count": 68,
   "id": "8953f078-8a74-4a30-b3f0-5cc106d80281",
   "metadata": {},
   "outputs": [
    {
     "name": "stdout",
     "output_type": "stream",
     "text": [
      "  continentName  numAirports\n",
      "0            NA          989\n",
      "1            AS          971\n",
      "2            EU          605\n",
      "3            AF          321\n",
      "4            SA          313\n",
      "5            OC          304\n"
     ]
    }
   ],
   "source": [
    "# Convert the results to a DataFrame\n",
    "airports_df = pd.DataFrame(airports_per_continent)\n",
    "\n",
    "# Print the DataFrame\n",
    "print(airports_df)"
   ]
  },
  {
   "cell_type": "code",
   "execution_count": null,
   "id": "c1bbe97d-8f0d-415d-ad2b-b700c2694f05",
   "metadata": {},
   "outputs": [],
   "source": []
  }
 ],
 "metadata": {
  "kernelspec": {
   "display_name": "Python 3 (ipykernel)",
   "language": "python",
   "name": "python3"
  },
  "language_info": {
   "codemirror_mode": {
    "name": "ipython",
    "version": 3
   },
   "file_extension": ".py",
   "mimetype": "text/x-python",
   "name": "python",
   "nbconvert_exporter": "python",
   "pygments_lexer": "ipython3",
   "version": "3.11.7"
  }
 },
 "nbformat": 4,
 "nbformat_minor": 5
}
